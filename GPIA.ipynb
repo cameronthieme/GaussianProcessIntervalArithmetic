{
 "cells": [
  {
   "cell_type": "markdown",
   "id": "e8d40619-17be-4101-b6f4-382f3bb01989",
   "metadata": {},
   "source": [
    "# Gaussian Process Regression with Interval Arithmetic\n",
    "\n",
    "One current goal of the CMGDB group is to take in input data, use a Gaussian Process (GP) to define a map with that data (the map is the mean of the process), use that map to define a multivalued map which tracks rigorous bounds on where the image of the map lands in a grid, and then run that multivalued map through the CMGDB program in order to determine the Morse graph.  Hopefully that Morse graph is consistant with the true dynamics with high probability; that is a theoretical question that will take some work.\n",
    "\n",
    "However, at the moment, we are having a much more practical problem; the software used in order to get the rigorous multivalued map that we desire (PyInterval) does not play well with the software used in order to get the GP generated map (sklearn GaussianProcessRegressor).  This code is a first attempt at solving that problem.  This should be doable, because the output of the Gaussian Process regression (the mean function of the process) is an explicit (and relatively simple) formula: $$ \\mu^* = K(X_*,X)(K(X,X)+\\sigma^2 I)^{-1}\\hat{y} $$\n",
    "Letting $m$ be the number of training points and $n$ be the dimension of the input vectors, we have that $X \\in R^{m\\times n}$, $K(X,X), I \\in R^{m \\times m}$, and $K(X,X)_{i,j} = k(x^{(i)},x^{(j)})$ where $k$ is the kernal.  Also $\\hat{y} \\in R^{m \\times q}$ is the training output and $\\sigma^2 \\in R$ is the variance of the noise in the process. Note that the GP treats each of the $q$ dimensions of $y$ as independent.  \n",
    "\n",
    "Note that, for fixed input data, \n",
    "$$ Z:= (K(X,X)+\\sigma^2 I)^{-1}\\hat{y}$$ is just an $m\\times q$ matrix (real-valued).  Then the output of the GP is actually a pretty simple function where, taking the view that $X_* = x_*$ (so we just write the output of each point separately, so that we can view this as a function), we get that\n",
    "$$ \\mu(x_*) = K(x_*,X)Z$$\n",
    "where\n",
    "$$K(x_*,X) = [k(x_*,x^{(1)}),\\cdots,k(x_*,x^{(m)})].$$\n",
    "\n",
    "Assuming that we are using the common squared exponential kernal, the entries of the covariance matrix $K$ involve only exponentials, powers, division, and a Euclidean norm (so subtraction, addition, square root).  All of these functions are implemented in PyInterval.\n",
    "\n",
    "Our interest is in performing interval arithmetic with respect to the test data $X_*$, so we we basically need to implement two steps. \n",
    "\n",
    "First, we compute $Z$ for a given input data.  We will do this using Cholesky factorization, following algorithm 2.1 from \"Gaussian Processes for Machine Learning\".  Note that this algorithm is what the sklearn function uses as well.  Since this part of the equation does not depend on the test data $X_*$, we do not need to follow interval arithmetic here (which is lucky, as the matrix inversion would probably be ridiculously slow).  \n",
    "\n",
    "The second step (and where we break from the sklearn code) is to solve for the vector $K(x_*,X)$ using interval arithmetic, and multiply that vector by $Z$.\n",
    "\n",
    "I also want to note that this code is a somewhat limited product; it is not be nearly as robust as the sklearn function; in particular, it is limited to only the use of the squared exponential kernal. It also only tracks the mean of the process, and not the variance.  At this moment we also work only in 2d, which is because that was the dimension of the problem we were interested in.\n"
   ]
  },
  {
   "cell_type": "code",
   "execution_count": 1,
   "id": "41566798-c702-452b-a74e-50480f2c6c44",
   "metadata": {},
   "outputs": [],
   "source": [
    "# for matrix inversion\n",
    "from scipy.linalg import cholesky, cho_solve\n",
    "\n",
    "# for defining K(X,X)\n",
    "from scipy.spatial.distance import cdist\n",
    "\n",
    "# the classics\n",
    "import numpy as np\n",
    "# import matplotlib.pyplot as plt\n",
    "# import math\n",
    "# import itertools \n",
    "\n",
    "# for interval arithmetic\n",
    "from interval import interval, imath, fpu\n",
    "\n",
    "# comparing to prebuilt packages\n",
    "from sklearn.gaussian_process import GaussianProcessRegressor\n",
    "from sklearn.gaussian_process.kernels import RBF\n"
   ]
  },
  {
   "cell_type": "code",
   "execution_count": 27,
   "id": "f816b18e-a585-4fc4-953e-9179b03a5aa8",
   "metadata": {},
   "outputs": [],
   "source": [
    "def Z_matrix(X,Y,tau,sig_sq = 1e-10):\n",
    "    \"\"\"\n",
    "    Input: \n",
    "        X: an m by n matrix (training input)\n",
    "        Y: an m-vector (training output)\n",
    "        tau: parameter in the squared exponential kernal\n",
    "        sig_sq: noise level of errors in GP model.  Corresponds to alpha in sklearn\n",
    "            Note: even if zero noise is assumed, sig_sq should be set positive to avoid numerical errors in the matrix inversion.    \n",
    "    Output:\n",
    "        Z: an m-vector, Z = (K(X,X)+sig_sq*I)^(-1)Y\n",
    "    \"\"\"\n",
    "    # finding m\n",
    "    m = X.shape[0]\n",
    "    \n",
    "    # defining the covariance matrix\n",
    "    dists = cdist(X / tau, X / tau, metric=\"sqeuclidean\")\n",
    "    K = np.exp(-0.5 * dists)\n",
    "    \n",
    "    # Defining matrix that must be inverted\n",
    "    A = K + sig_sq*np.eye(m)\n",
    "    \n",
    "    # Alg. 2.1, page 19, line 2 -> L = cholesky(K + sigma^2 I)\n",
    "    L = cholesky(A, lower=True, check_finite=False)\n",
    "    \n",
    "    # Alg 2.1, page 19, line 3 -> alpha = L^T \\ (L \\ Y)\n",
    "    Z = cho_solve((L, True),Y,check_finite=False)\n",
    "    \n",
    "    return Z\n",
    "\n",
    "# interval squared exponential kernal\n",
    "def sq_exp_intvl(a,b,tau):\n",
    "    '''\n",
    "    Input:\n",
    "        a: length q vector\n",
    "        b: length q vector\n",
    "        tau: parameter in square exponential kernal\n",
    "    Output: \n",
    "        k: interval result of square exponential kernal on a,b with parameter tau\n",
    "    '''\n",
    "    # notice that squaring the norm cancels out the square root operation\n",
    "    norm_sq_list = [(interval(a[i]) - interval(b[i]))**2 for i in range(len(a))]\n",
    "    norm_sq = sum(norm_sq_list)\n",
    "    denom = -2*interval(tau)**2\n",
    "    return imath.exp(norm_sq/denom)\n",
    "\n",
    "# Define interval GP Regression\n",
    "def GP_reg_intvl(X_train, x_star, Z, tau):\n",
    "    \"\"\"\n",
    "    This function combines with GP_input_setup in order to do GP regression\n",
    "    Evaluates at points in R^n--single points, not collection\n",
    "    This version does interval arithmetic\n",
    "    \n",
    "    Input:\n",
    "        X_train: an m by q matrix (training input)\n",
    "        x_star: a 1 by q matrix (where we evaluate the regression)\n",
    "        Z: m-vector, output of GP_input_setup\n",
    "        tau: parameter for squared exponential kernal\n",
    "        \n",
    "    Output:\n",
    "        Y_star: a m by q matrix, output of Gaussian regression of x_star\n",
    "    \"\"\"\n",
    "    # finding dimensions\n",
    "    m = X_train.shape[0]\n",
    "    \n",
    "    # defining the covariance matrix K(X*,X)\n",
    "    KX_starX = []\n",
    "    for j in range(m):\n",
    "        xj = X_train[j,:]\n",
    "        KX_starX.append(sq_exp_intvl(x_star,xj,tau))\n",
    "    \n",
    "    # getting result of regression, Y_star\n",
    "    # have to basically redefine linear algebra here by hand to implement interval arithmetic\n",
    "    Y_star = []\n",
    "    for j in range(Z.shape[1]): # for 2D case (like Leslie map) Z.shape[1] = 2\n",
    "        yj_list = [0]*m\n",
    "        for i in range(m):\n",
    "            yj_list[i] = KX_starX[i]*Z[i,j]\n",
    "        Y_star.append(sum(yj_list))\n",
    "                    \n",
    "    return Y_star"
   ]
  },
  {
   "cell_type": "code",
   "execution_count": 28,
   "id": "a7d648ff-b23f-4e89-a447-4d90a79cb8e6",
   "metadata": {},
   "outputs": [],
   "source": [
    "# comparison to sklearn:\n",
    "\n",
    "# Define a Gaussian process\n",
    "def GP(X_train, Y_train):\n",
    "    # fit Gaussian Process with dataset X_train, Y_train\n",
    "    kernel = RBF(length_scale = tau, length_scale_bounds = \"fixed\")\n",
    "    gp = GaussianProcessRegressor(kernel=kernel)\n",
    "    gp.fit(X_train, Y_train)\n",
    "    return gp\n",
    "\n",
    "# Load data from file\n",
    "data = np.loadtxt('Leslie_500.dat')\n",
    "\n",
    "# Get X and Y vectors\n",
    "X = data[:, [0,1]]\n",
    "Y = data[:, [2,3]]\n",
    "\n",
    "# save training input points\n",
    "X_train = X\n",
    "\n",
    "# set length scale \n",
    "tau = 5"
   ]
  },
  {
   "cell_type": "code",
   "execution_count": 29,
   "id": "9c0c32d5-3f4e-4c6a-b740-bc02a8b93385",
   "metadata": {},
   "outputs": [
    {
     "name": "stdout",
     "output_type": "stream",
     "text": [
      "CPU times: user 27.7 ms, sys: 10.1 ms, total: 37.8 ms\n",
      "Wall time: 33.1 ms\n"
     ]
    }
   ],
   "source": [
    "%%time\n",
    "\n",
    "# Train a GP with the data above\n",
    "gp = GP(X, Y)\n",
    "\n",
    "# Use the GP to define a map f\n",
    "# Notice that the GP takes lists as\n",
    "# input and output, so we need to\n",
    "# add the [] below\n",
    "def f(X):\n",
    "    return gp.predict([X])[0]"
   ]
  },
  {
   "cell_type": "code",
   "execution_count": 30,
   "id": "db8684f6-e1ab-4d64-81b3-731c40ab446d",
   "metadata": {},
   "outputs": [
    {
     "name": "stdout",
     "output_type": "stream",
     "text": [
      "CPU times: user 16.6 ms, sys: 5.23 ms, total: 21.8 ms\n",
      "Wall time: 18.4 ms\n"
     ]
    }
   ],
   "source": [
    "%%time\n",
    "\n",
    "Z = zVec(X,Y,tau)"
   ]
  },
  {
   "cell_type": "code",
   "execution_count": 31,
   "id": "a9647636-4930-41fe-a656-4bfba9949ac1",
   "metadata": {},
   "outputs": [],
   "source": [
    "def g(x):\n",
    "    return GP_reg_intvl_2D(X, x, Z, tau)"
   ]
  },
  {
   "cell_type": "code",
   "execution_count": 32,
   "id": "9f88b279-8dbd-4a4b-85c6-c2e29c01b896",
   "metadata": {},
   "outputs": [
    {
     "name": "stdout",
     "output_type": "stream",
     "text": [
      "Point 1: (57.548051288008004, 1.7497778763419085)\n",
      "Point 2: (24.7519136825391, 15.623974881155743)\n",
      "Point 3: (66.28214574597528, 47.36864081909122)\n",
      "Point 4: (80.29605327300379, 6.08480522289176)\n",
      "Point 5: (37.972385693494026, 2.0848351578843625)\n",
      "Point 6: (19.676636370299107, 35.37437552252347)\n",
      "Point 7: (2.38726380751741, 13.917834385716082)\n",
      "Point 8: (58.48924928459488, 38.14544858370578)\n",
      "Point 9: (19.838876424284745, 41.248187136997494)\n",
      "Point 10: (72.84855053146107, 0.4539196762239493)\n",
      "Point 11: (72.52353848420454, 48.869455788570875)\n",
      "Point 12: (30.62188673713579, 10.882720466324521)\n",
      "Point 13: (86.14913371168251, 23.560954752428987)\n",
      "Point 14: (8.346218650056693, 6.7692430947193145)\n",
      "Point 15: (76.27434046563772, 42.26042592171375)\n",
      "Point 16: (72.64135172296749, 51.08095480035395)\n",
      "Point 17: (48.26006445901453, 68.11807659431992)\n",
      "Point 18: (34.06747248312902, 38.64239622975717)\n",
      "Point 19: (74.6462491874338, 43.296001185249594)\n",
      "Point 20: (77.55348273487026, 40.41422752011861)\n"
     ]
    }
   ],
   "source": [
    "import random\n",
    "\n",
    "# Set a seed for reproducibility (optional)\n",
    "random.seed(42)\n",
    "\n",
    "# parameters for region of analysis\n",
    "lower_bounds = [-0.001, -0.001]\n",
    "upper_bounds = [90.0, 70.0]\n",
    "\n",
    "# Generate twenty pairs of points\n",
    "num_points = 20\n",
    "point_set = [(random.uniform(lower_bounds[0],upper_bounds[0]), random.uniform(lower_bounds[1], upper_bounds[1])) for _ in range(num_points)]\n",
    "\n",
    "# Display the generated points\n",
    "for i, point in enumerate(point_set, 1):\n",
    "    print(f\"Point {i}: {point}\")\n"
   ]
  },
  {
   "cell_type": "code",
   "execution_count": 33,
   "id": "b0896f94-ad6a-4dec-8949-5b9bbe7b11c0",
   "metadata": {},
   "outputs": [
    {
     "name": "stdout",
     "output_type": "stream",
     "text": [
      "GP reg: [ 3.11929279 40.31468598]\n",
      "GP interval: [interval([3.1192927884853754, 3.1192927884864914]), interval([40.314685979856826, 40.314685979863604])]\n",
      "**************************************\n",
      "GP reg: [15.09987151 17.33411459]\n",
      "GP interval: [interval([15.099871506897031, 15.099871506911972]), interval([17.334114589381702, 17.334114589385802])]\n",
      "**************************************\n",
      "GP reg: [2.81857628e-02 4.63867769e+01]\n",
      "GP interval: [interval([0.028185762779583585, 0.028185762780176583]), interval([46.38677685831422, 46.386776858322])]\n",
      "**************************************\n",
      "GP reg: [ 0.30405267 56.21273587]\n",
      "GP interval: [interval([0.30405267116928836, 0.3040526711700797]), interval([56.21273587238129, 56.21273587239807])]\n",
      "**************************************\n",
      "GP reg: [14.20504423 26.31172842]\n",
      "GP interval: [interval([14.205044229924173, 14.20504422993631]), interval([26.311728416762637, 26.311728416765433])]\n",
      "**************************************\n",
      "GP reg: [ 4.97363754 13.77321158]\n",
      "GP interval: [interval([4.9736375436302405, 4.973637543637177]), interval([13.773211584751952, 13.77321158475623])]\n",
      "**************************************\n",
      "GP reg: [73.8408313   1.66329939]\n",
      "GP interval: [interval([73.84083129548645, 73.84083129555825]), interval([1.6632993924311, 1.6632993924325243])]\n",
      "**************************************\n",
      "GP reg: [ 0.13012738 40.94393998]\n",
      "GP interval: [interval([0.1301273805671047, 0.1301273805680766]), interval([40.94393997617769, 40.9439399761818])]\n",
      "**************************************\n",
      "GP reg: [ 3.04031672 13.88746387]\n",
      "GP interval: [interval([3.0403167224977623, 3.040316722503445]), interval([13.887463869864405, 13.887463869868133])]\n",
      "**************************************\n",
      "GP reg: [ 0.94184691 50.96926137]\n",
      "GP interval: [interval([0.9418469075291535, 0.9418469075295481]), interval([50.96926136812915, 50.969261368137914])]\n",
      "**************************************\n",
      "GP reg: [1.37974753e-02 5.07675686e+01]\n",
      "GP interval: [interval([0.013797475283039729, 0.01379747528330253]), interval([50.76756859955007, 50.76756859956623])]\n",
      "**************************************\n",
      "GP reg: [13.56392884 21.44801217]\n",
      "GP interval: [interval([13.563928840882257, 13.563928840894096]), interval([21.44801217259018, 21.44801217259288])]\n",
      "**************************************\n",
      "GP reg: [3.87312539e-02 6.02821226e+01]\n",
      "GP interval: [interval([0.0387312539295319, 0.03873125392979193]), interval([60.28212260262975, 60.2821226026415])]\n",
      "**************************************\n",
      "GP reg: [71.43514815  5.84045955]\n",
      "GP interval: [interval([71.43514814738798, 71.43514814741042]), interval([5.8404595531189605, 5.84045955312083])]\n",
      "**************************************\n",
      "GP reg: [1.76975812e-02 5.33970737e+01]\n",
      "GP interval: [interval([0.01769758116999111, 0.017697581170277456]), interval([53.39707366472535, 53.39707366474572])]\n",
      "**************************************\n",
      "GP reg: [1.11922133e-02 5.08597033e+01]\n",
      "GP interval: [interval([0.011192213316833117, 0.011192213316977798]), interval([50.859703276614084, 50.85970327662313])]\n",
      "**************************************\n",
      "GP reg: [2.24428237e-02 3.38096188e+01]\n",
      "GP interval: [interval([0.022442823680043203, 0.022442823680177405]), interval([33.80961877668432, 33.80961877669551])]\n",
      "**************************************\n",
      "GP reg: [ 1.09457722 23.84388709]\n",
      "GP interval: [interval([1.094577219255512, 1.0945772192567018]), interval([23.84388709274943, 23.843887092751338])]\n",
      "**************************************\n",
      "GP reg: [1.89849950e-02 5.22322874e+01]\n",
      "GP interval: [interval([0.018984995044856248, 0.01898499504533693]), interval([52.232287381646145, 52.23228738166525])]\n",
      "**************************************\n",
      "GP reg: [1.86371152e-02 5.43005239e+01]\n",
      "GP interval: [interval([0.01863711516179864, 0.018637115162036633]), interval([54.30052393229753, 54.30052393231447])]\n",
      "**************************************\n"
     ]
    }
   ],
   "source": [
    "for x in point_set:\n",
    "    print('GP reg: %s' %f(x))\n",
    "    print('GP interval: %s' %g(x))\n",
    "    print('**************************************')\n"
   ]
  },
  {
   "cell_type": "code",
   "execution_count": 18,
   "id": "55927129-5f7c-4c72-8f25-54a21640320a",
   "metadata": {},
   "outputs": [
    {
     "data": {
      "text/plain": [
       "(57.548051288008004, 1.7497778763419085)"
      ]
     },
     "execution_count": 18,
     "metadata": {},
     "output_type": "execute_result"
    }
   ],
   "source": [
    "point_set[0]\n",
    "    # norm_sq = (interval(a[0])-interval(b[0]))**2 + (interval(a[1])-interval(b[1]))**2\n"
   ]
  },
  {
   "cell_type": "code",
   "execution_count": 25,
   "id": "6c69503c-999a-49f3-a4b8-65781b90e03a",
   "metadata": {},
   "outputs": [],
   "source": [
    "asdf = point_set[0]\n",
    "qwer = point_set[1]\n",
    "norm_sq_list = [(asdf[i]-qwer[i])**2 for i in range(len(asdf))]"
   ]
  },
  {
   "cell_type": "code",
   "execution_count": 26,
   "id": "ebf7c33d-e895-43c9-a00d-ffeda4da930b",
   "metadata": {},
   "outputs": [
    {
     "data": {
      "text/plain": [
       "[1075.5866418368514, 192.49334252838514]"
      ]
     },
     "execution_count": 26,
     "metadata": {},
     "output_type": "execute_result"
    }
   ],
   "source": [
    "norm_sq_list"
   ]
  },
  {
   "cell_type": "code",
   "execution_count": null,
   "id": "4cc52cd7-f2e4-43d1-a248-25963d1f1206",
   "metadata": {},
   "outputs": [],
   "source": []
  }
 ],
 "metadata": {
  "kernelspec": {
   "display_name": "Python 3 (ipykernel)",
   "language": "python",
   "name": "python3"
  },
  "language_info": {
   "codemirror_mode": {
    "name": "ipython",
    "version": 3
   },
   "file_extension": ".py",
   "mimetype": "text/x-python",
   "name": "python",
   "nbconvert_exporter": "python",
   "pygments_lexer": "ipython3",
   "version": "3.11.2"
  }
 },
 "nbformat": 4,
 "nbformat_minor": 5
}
