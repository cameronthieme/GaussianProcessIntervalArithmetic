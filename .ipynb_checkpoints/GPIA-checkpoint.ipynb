{
 "cells": [
  {
   "cell_type": "markdown",
   "id": "7acc50f6-4868-42c5-8be5-77b9624acc27",
   "metadata": {},
   "source": [
    "# Using GaussianProcessIntervalArithmetic (GPIA)\n",
    "\n",
    "If you haven't already, before checking out this notebook read the README file.  That gives a really brief introduction to the concept of interval arithmetic and the motivation for implementing Gaussian process regression with interval arithmetic.  \n",
    "\n",
    "In this notebook we use GPIA in order to obtain interval arithmetic predictions of a Gaussian process.  We compare the output of GPIA to the output of a Gaussian process implemented in scikit-learn (which does not track interval arithmetic).  We see that, as expected, the output of the scikit-learn function always lies in the rigorous interval produced by GPIA.  "
   ]
  },
  {
   "cell_type": "code",
   "execution_count": 7,
   "id": "41566798-c702-452b-a74e-50480f2c6c44",
   "metadata": {},
   "outputs": [],
   "source": [
    "# importing Gaussian Process Interval Arithmetic Regressor\n",
    "from GPIA import *\n",
    "\n",
    "# Import sklearn GPR to compare\n",
    "from sklearn.gaussian_process import GaussianProcessRegressor\n",
    "from sklearn.gaussian_process.kernels import RBF\n",
    "\n",
    "# for drawing points to test algorithms\n",
    "import random"
   ]
  },
  {
   "cell_type": "markdown",
   "id": "e2f6e0c9-0739-4c9c-9e35-3f2f6ad3dd68",
   "metadata": {},
   "source": [
    "## Function Approximation\n",
    "\n",
    "Gaussian processes (GP) are a type of machine learning model.  In this notebook we will use GP in order to approximate the function \n",
    "\n",
    "$$f(x,y,z) = (3xy, 5z^2)$$\n",
    "\n",
    "There is nothing special about this function, we just need something for our model to learn.  We will randomly sample data from this function in order to train the GP.\n"
   ]
  },
  {
   "cell_type": "code",
   "execution_count": 31,
   "id": "0c851f90-2760-42ed-b794-b0118a46f6bc",
   "metadata": {},
   "outputs": [],
   "source": [
    "# function to approximate\n",
    "def f(x,y,z):\n",
    "    return [3 * x * y, 5 * z**2]\n",
    "\n",
    "# randomly sampling function\n",
    "\n",
    "# Set a seed for reproducibility (optional)\n",
    "random.seed(42)\n",
    "\n",
    "# parameters for region of analysis\n",
    "lower_bounds = [0,0,0]\n",
    "upper_bounds = [1, 2, 3]\n",
    "\n",
    "# Generate training data\n",
    "num_points = 200\n",
    "X_train = [[random.uniform(lower_bounds[i],upper_bounds[i]) for i in range(len(lower_bounds))] for _ in range(num_points)]\n",
    "Y_train = [ f(*X[i]) for i in range(num_points) ]"
   ]
  },
  {
   "cell_type": "markdown",
   "id": "d19b9aa5-1a2c-40bb-9420-412b02f7a659",
   "metadata": {},
   "source": [
    "## Training the GPs"
   ]
  },
  {
   "cell_type": "code",
   "execution_count": 35,
   "id": "a7d648ff-b23f-4e89-a447-4d90a79cb8e6",
   "metadata": {},
   "outputs": [
    {
     "data": {
      "text/html": [
       "<style>#sk-container-id-2 {color: black;}#sk-container-id-2 pre{padding: 0;}#sk-container-id-2 div.sk-toggleable {background-color: white;}#sk-container-id-2 label.sk-toggleable__label {cursor: pointer;display: block;width: 100%;margin-bottom: 0;padding: 0.3em;box-sizing: border-box;text-align: center;}#sk-container-id-2 label.sk-toggleable__label-arrow:before {content: \"▸\";float: left;margin-right: 0.25em;color: #696969;}#sk-container-id-2 label.sk-toggleable__label-arrow:hover:before {color: black;}#sk-container-id-2 div.sk-estimator:hover label.sk-toggleable__label-arrow:before {color: black;}#sk-container-id-2 div.sk-toggleable__content {max-height: 0;max-width: 0;overflow: hidden;text-align: left;background-color: #f0f8ff;}#sk-container-id-2 div.sk-toggleable__content pre {margin: 0.2em;color: black;border-radius: 0.25em;background-color: #f0f8ff;}#sk-container-id-2 input.sk-toggleable__control:checked~div.sk-toggleable__content {max-height: 200px;max-width: 100%;overflow: auto;}#sk-container-id-2 input.sk-toggleable__control:checked~label.sk-toggleable__label-arrow:before {content: \"▾\";}#sk-container-id-2 div.sk-estimator input.sk-toggleable__control:checked~label.sk-toggleable__label {background-color: #d4ebff;}#sk-container-id-2 div.sk-label input.sk-toggleable__control:checked~label.sk-toggleable__label {background-color: #d4ebff;}#sk-container-id-2 input.sk-hidden--visually {border: 0;clip: rect(1px 1px 1px 1px);clip: rect(1px, 1px, 1px, 1px);height: 1px;margin: -1px;overflow: hidden;padding: 0;position: absolute;width: 1px;}#sk-container-id-2 div.sk-estimator {font-family: monospace;background-color: #f0f8ff;border: 1px dotted black;border-radius: 0.25em;box-sizing: border-box;margin-bottom: 0.5em;}#sk-container-id-2 div.sk-estimator:hover {background-color: #d4ebff;}#sk-container-id-2 div.sk-parallel-item::after {content: \"\";width: 100%;border-bottom: 1px solid gray;flex-grow: 1;}#sk-container-id-2 div.sk-label:hover label.sk-toggleable__label {background-color: #d4ebff;}#sk-container-id-2 div.sk-serial::before {content: \"\";position: absolute;border-left: 1px solid gray;box-sizing: border-box;top: 0;bottom: 0;left: 50%;z-index: 0;}#sk-container-id-2 div.sk-serial {display: flex;flex-direction: column;align-items: center;background-color: white;padding-right: 0.2em;padding-left: 0.2em;position: relative;}#sk-container-id-2 div.sk-item {position: relative;z-index: 1;}#sk-container-id-2 div.sk-parallel {display: flex;align-items: stretch;justify-content: center;background-color: white;position: relative;}#sk-container-id-2 div.sk-item::before, #sk-container-id-2 div.sk-parallel-item::before {content: \"\";position: absolute;border-left: 1px solid gray;box-sizing: border-box;top: 0;bottom: 0;left: 50%;z-index: -1;}#sk-container-id-2 div.sk-parallel-item {display: flex;flex-direction: column;z-index: 1;position: relative;background-color: white;}#sk-container-id-2 div.sk-parallel-item:first-child::after {align-self: flex-end;width: 50%;}#sk-container-id-2 div.sk-parallel-item:last-child::after {align-self: flex-start;width: 50%;}#sk-container-id-2 div.sk-parallel-item:only-child::after {width: 0;}#sk-container-id-2 div.sk-dashed-wrapped {border: 1px dashed gray;margin: 0 0.4em 0.5em 0.4em;box-sizing: border-box;padding-bottom: 0.4em;background-color: white;}#sk-container-id-2 div.sk-label label {font-family: monospace;font-weight: bold;display: inline-block;line-height: 1.2em;}#sk-container-id-2 div.sk-label-container {text-align: center;}#sk-container-id-2 div.sk-container {/* jupyter's `normalize.less` sets `[hidden] { display: none; }` but bootstrap.min.css set `[hidden] { display: none !important; }` so we also need the `!important` here to be able to override the default hidden behavior on the sphinx rendered scikit-learn.org. See: https://github.com/scikit-learn/scikit-learn/issues/21755 */display: inline-block !important;position: relative;}#sk-container-id-2 div.sk-text-repr-fallback {display: none;}</style><div id=\"sk-container-id-2\" class=\"sk-top-container\"><div class=\"sk-text-repr-fallback\"><pre>GaussianProcessRegressor(alpha=1, kernel=RBF(length_scale=5))</pre><b>In a Jupyter environment, please rerun this cell to show the HTML representation or trust the notebook. <br />On GitHub, the HTML representation is unable to render, please try loading this page with nbviewer.org.</b></div><div class=\"sk-container\" hidden><div class=\"sk-item\"><div class=\"sk-estimator sk-toggleable\"><input class=\"sk-toggleable__control sk-hidden--visually\" id=\"sk-estimator-id-2\" type=\"checkbox\" checked><label for=\"sk-estimator-id-2\" class=\"sk-toggleable__label sk-toggleable__label-arrow\">GaussianProcessRegressor</label><div class=\"sk-toggleable__content\"><pre>GaussianProcessRegressor(alpha=1, kernel=RBF(length_scale=5))</pre></div></div></div></div></div>"
      ],
      "text/plain": [
       "GaussianProcessRegressor(alpha=1, kernel=RBF(length_scale=5))"
      ]
     },
     "execution_count": 35,
     "metadata": {},
     "output_type": "execute_result"
    }
   ],
   "source": [
    "# setting up GP algorithms\n",
    "# set length scale \n",
    "tau = 5\n",
    "# set noise variance\n",
    "sig_sq = 1\n",
    "\n",
    "# interval arithmetic:\n",
    "gpia = GPIA_Regressor(tau = tau, sig_sq = sig_sq)\n",
    "gpia.fit(X_train, Y_train)\n",
    "\n",
    "# sklearn:\n",
    "kernel = RBF(length_scale = tau, length_scale_bounds = \"fixed\")\n",
    "gp = GaussianProcessRegressor(kernel=kernel, alpha = sig_sq)\n",
    "gp.fit(X_train, Y_train)"
   ]
  },
  {
   "cell_type": "markdown",
   "id": "433d702e-df75-4c75-9afa-ed6d10937d63",
   "metadata": {},
   "source": [
    "## Gathering Test Data"
   ]
  },
  {
   "cell_type": "code",
   "execution_count": 48,
   "id": "9f88b279-8dbd-4a4b-85c6-c2e29c01b896",
   "metadata": {},
   "outputs": [],
   "source": [
    "# generating random points in the same domain as the training data\n",
    "\n",
    "# Generate test data\n",
    "num_points = 3\n",
    "X_test = [[random.uniform(lower_bounds[i],upper_bounds[i]) for i in range(len(lower_bounds))] for _ in range(num_points)]\n"
   ]
  },
  {
   "cell_type": "markdown",
   "id": "4fabde99-fc3f-4cbe-8d20-0b5e7af19bda",
   "metadata": {},
   "source": [
    "## Comparison of scikit-learn and interval arithmetic\n",
    "\n",
    "We compare the output of GPIA and scikit-learn's GP regression.  Notice that for each test point, the output of sklearn's predictor is a pair of points. The output of GPIA, on the other hand, is a pair of intervals; each of these intervals contains the corresponding scalar from the sklearn pair. "
   ]
  },
  {
   "cell_type": "code",
   "execution_count": 49,
   "id": "b049d341-e75f-41bd-b4f3-214ffd648736",
   "metadata": {},
   "outputs": [
    {
     "name": "stdout",
     "output_type": "stream",
     "text": [
      "**************************************\n",
      "\n",
      "sklearn output: [[ 1.63792083 22.49981561]]\n",
      "\n",
      "Interval Arithmetic output: [interval([1.6379208278699449, 1.6379208278700257]), interval([22.49981561138933, 22.499815611390073])]\n",
      "                \n",
      "**************************************\n",
      "**************************************\n",
      "\n",
      "sklearn output: [[ 2.65095585 20.05278707]]\n",
      "\n",
      "Interval Arithmetic output: [interval([2.6509558510214055, 2.650955851021488]), interval([20.05278706973838, 20.052787069739125])]\n",
      "                \n",
      "**************************************\n",
      "**************************************\n",
      "\n",
      "sklearn output: [[ 2.72121346 12.13876642]]\n",
      "\n",
      "Interval Arithmetic output: [interval([2.72121345711083, 2.7212134571109106]), interval([12.1387664244903, 12.138766424490962])]\n",
      "                \n",
      "**************************************\n"
     ]
    }
   ],
   "source": [
    "for x in X_test:\n",
    "    print('**************************************')\n",
    "    print('')\n",
    "    \n",
    "    # sklearn\n",
    "    skoutput = gp.predict([x])\n",
    "    print('sklearn output: %s' %skoutput)\n",
    "    print('')\n",
    "    \n",
    "    # interval arithmetic\n",
    "    inoutput = gpia.predict(x)\n",
    "    print('Interval Arithmetic output: %s' %inoutput)\n",
    "    print('                ')\n",
    "\n",
    "    print('**************************************')\n"
   ]
  },
  {
   "cell_type": "code",
   "execution_count": null,
   "id": "1a21b8af-9bab-4c29-94e2-8f44315642b3",
   "metadata": {},
   "outputs": [],
   "source": []
  }
 ],
 "metadata": {
  "kernelspec": {
   "display_name": "Python 3 (ipykernel)",
   "language": "python",
   "name": "python3"
  },
  "language_info": {
   "codemirror_mode": {
    "name": "ipython",
    "version": 3
   },
   "file_extension": ".py",
   "mimetype": "text/x-python",
   "name": "python",
   "nbconvert_exporter": "python",
   "pygments_lexer": "ipython3",
   "version": "3.11.2"
  }
 },
 "nbformat": 4,
 "nbformat_minor": 5
}
